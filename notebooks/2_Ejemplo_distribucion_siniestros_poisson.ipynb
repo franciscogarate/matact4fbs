{
  "nbformat": 4,
  "nbformat_minor": 0,
  "metadata": {
    "colab": {
      "provenance": []
    },
    "kernelspec": {
      "name": "python3",
      "display_name": "Python 3"
    },
    "language_info": {
      "name": "python"
    }
  },
  "cells": [
    {
      "cell_type": "code",
      "execution_count": 6,
      "metadata": {
        "id": "rMKLpWA77I9d"
      },
      "outputs": [],
      "source": [
        "import pandas as pd\n",
        "import numpy as np\n",
        "import scipy.stats as st\n",
        "import matplotlib.pyplot as plt"
      ]
    },
    {
      "cell_type": "code",
      "source": [
        "dir(st)"
      ],
      "metadata": {
        "colab": {
          "base_uri": "https://localhost:8080/"
        },
        "collapsed": true,
        "id": "WUbZ2f9C7Nut",
        "outputId": "396af008-8b8e-497c-c625-0a67009f942d"
      },
      "execution_count": 4,
      "outputs": [
        {
          "output_type": "execute_result",
          "data": {
            "text/plain": [
              "['Binomial',\n",
              " 'BootstrapMethod',\n",
              " 'CensoredData',\n",
              " 'ConstantInputWarning',\n",
              " 'Covariance',\n",
              " 'DegenerateDataWarning',\n",
              " 'FitError',\n",
              " 'Mixture',\n",
              " 'MonteCarloMethod',\n",
              " 'NearConstantInputWarning',\n",
              " 'Normal',\n",
              " 'PermutationMethod',\n",
              " 'Uniform',\n",
              " '__all__',\n",
              " '__builtins__',\n",
              " '__cached__',\n",
              " '__doc__',\n",
              " '__file__',\n",
              " '__loader__',\n",
              " '__name__',\n",
              " '__package__',\n",
              " '__path__',\n",
              " '__spec__',\n",
              " '_ansari_swilk_statistics',\n",
              " '_axis_nan_policy',\n",
              " '_biasedurn',\n",
              " '_binned_statistic',\n",
              " '_binomtest',\n",
              " '_bws_test',\n",
              " '_censored_data',\n",
              " '_common',\n",
              " '_constants',\n",
              " '_continuous_distns',\n",
              " '_correlation',\n",
              " '_covariance',\n",
              " '_crosstab',\n",
              " '_discrete_distns',\n",
              " '_distn_infrastructure',\n",
              " '_distr_params',\n",
              " '_distribution_infrastructure',\n",
              " '_entropy',\n",
              " '_finite_differences',\n",
              " '_fit',\n",
              " '_hypotests',\n",
              " '_kde',\n",
              " '_ksstats',\n",
              " '_levy_stable',\n",
              " '_mannwhitneyu',\n",
              " '_mgc',\n",
              " '_morestats',\n",
              " '_mstats_basic',\n",
              " '_mstats_extras',\n",
              " '_multicomp',\n",
              " '_multivariate',\n",
              " '_new_distributions',\n",
              " '_odds_ratio',\n",
              " '_page_trend_test',\n",
              " '_probability_distribution',\n",
              " '_qmc',\n",
              " '_qmc_cy',\n",
              " '_qmvnt',\n",
              " '_qmvnt_cy',\n",
              " '_quantile',\n",
              " '_rcont',\n",
              " '_relative_risk',\n",
              " '_resampling',\n",
              " '_sensitivity_analysis',\n",
              " '_sobol',\n",
              " '_stats',\n",
              " '_stats_mstats_common',\n",
              " '_stats_py',\n",
              " '_stats_pythran',\n",
              " '_survival',\n",
              " '_tukeylambda_stats',\n",
              " '_variation',\n",
              " '_warnings_errors',\n",
              " '_wilcoxon',\n",
              " 'abs',\n",
              " 'alexandergovern',\n",
              " 'alpha',\n",
              " 'anderson',\n",
              " 'anderson_ksamp',\n",
              " 'anglit',\n",
              " 'ansari',\n",
              " 'arcsine',\n",
              " 'argus',\n",
              " 'barnard_exact',\n",
              " 'bartlett',\n",
              " 'bayes_mvs',\n",
              " 'bernoulli',\n",
              " 'beta',\n",
              " 'betabinom',\n",
              " 'betanbinom',\n",
              " 'betaprime',\n",
              " 'biasedurn',\n",
              " 'binned_statistic',\n",
              " 'binned_statistic_2d',\n",
              " 'binned_statistic_dd',\n",
              " 'binom',\n",
              " 'binomtest',\n",
              " 'boltzmann',\n",
              " 'bootstrap',\n",
              " 'boschloo_exact',\n",
              " 'boxcox',\n",
              " 'boxcox_llf',\n",
              " 'boxcox_normmax',\n",
              " 'boxcox_normplot',\n",
              " 'bradford',\n",
              " 'brunnermunzel',\n",
              " 'burr',\n",
              " 'burr12',\n",
              " 'bws_test',\n",
              " 'cauchy',\n",
              " 'chatterjeexi',\n",
              " 'chi',\n",
              " 'chi2',\n",
              " 'chi2_contingency',\n",
              " 'chisquare',\n",
              " 'circmean',\n",
              " 'circstd',\n",
              " 'circvar',\n",
              " 'combine_pvalues',\n",
              " 'contingency',\n",
              " 'cosine',\n",
              " 'cramervonmises',\n",
              " 'cramervonmises_2samp',\n",
              " 'crystalball',\n",
              " 'cumfreq',\n",
              " 'describe',\n",
              " 'dgamma',\n",
              " 'differential_entropy',\n",
              " 'directional_stats',\n",
              " 'dirichlet',\n",
              " 'dirichlet_multinomial',\n",
              " 'distributions',\n",
              " 'dlaplace',\n",
              " 'dpareto_lognorm',\n",
              " 'dunnett',\n",
              " 'dweibull',\n",
              " 'ecdf',\n",
              " 'energy_distance',\n",
              " 'entropy',\n",
              " 'epps_singleton_2samp',\n",
              " 'erlang',\n",
              " 'exp',\n",
              " 'expectile',\n",
              " 'expon',\n",
              " 'exponnorm',\n",
              " 'exponpow',\n",
              " 'exponweib',\n",
              " 'f',\n",
              " 'f_oneway',\n",
              " 'false_discovery_control',\n",
              " 'fatiguelife',\n",
              " 'find_repeats',\n",
              " 'fisher_exact',\n",
              " 'fisk',\n",
              " 'fit',\n",
              " 'fligner',\n",
              " 'foldcauchy',\n",
              " 'foldnorm',\n",
              " 'friedmanchisquare',\n",
              " 'gamma',\n",
              " 'gausshyper',\n",
              " 'gaussian_kde',\n",
              " 'genexpon',\n",
              " 'genextreme',\n",
              " 'gengamma',\n",
              " 'genhalflogistic',\n",
              " 'genhyperbolic',\n",
              " 'geninvgauss',\n",
              " 'genlogistic',\n",
              " 'gennorm',\n",
              " 'genpareto',\n",
              " 'geom',\n",
              " 'gibrat',\n",
              " 'gmean',\n",
              " 'gompertz',\n",
              " 'goodness_of_fit',\n",
              " 'gstd',\n",
              " 'gumbel_l',\n",
              " 'gumbel_r',\n",
              " 'gzscore',\n",
              " 'halfcauchy',\n",
              " 'halfgennorm',\n",
              " 'halflogistic',\n",
              " 'halfnorm',\n",
              " 'hmean',\n",
              " 'hypergeom',\n",
              " 'hypsecant',\n",
              " 'invgamma',\n",
              " 'invgauss',\n",
              " 'invweibull',\n",
              " 'invwishart',\n",
              " 'iqr',\n",
              " 'irwinhall',\n",
              " 'jarque_bera',\n",
              " 'jf_skew_t',\n",
              " 'johnsonsb',\n",
              " 'johnsonsu',\n",
              " 'kappa3',\n",
              " 'kappa4',\n",
              " 'kde',\n",
              " 'kendalltau',\n",
              " 'kruskal',\n",
              " 'ks_1samp',\n",
              " 'ks_2samp',\n",
              " 'ksone',\n",
              " 'kstat',\n",
              " 'kstatvar',\n",
              " 'kstest',\n",
              " 'kstwo',\n",
              " 'kstwobign',\n",
              " 'kurtosis',\n",
              " 'kurtosistest',\n",
              " 'landau',\n",
              " 'laplace',\n",
              " 'laplace_asymmetric',\n",
              " 'levene',\n",
              " 'levy',\n",
              " 'levy_l',\n",
              " 'levy_stable',\n",
              " 'linregress',\n",
              " 'lmoment',\n",
              " 'log',\n",
              " 'loggamma',\n",
              " 'logistic',\n",
              " 'loglaplace',\n",
              " 'lognorm',\n",
              " 'logrank',\n",
              " 'logser',\n",
              " 'loguniform',\n",
              " 'lomax',\n",
              " 'make_distribution',\n",
              " 'mannwhitneyu',\n",
              " 'matrix_normal',\n",
              " 'maxwell',\n",
              " 'median_abs_deviation',\n",
              " 'median_test',\n",
              " 'mielke',\n",
              " 'mode',\n",
              " 'moment',\n",
              " 'monte_carlo_test',\n",
              " 'mood',\n",
              " 'morestats',\n",
              " 'moyal',\n",
              " 'mstats',\n",
              " 'mstats_basic',\n",
              " 'mstats_extras',\n",
              " 'multinomial',\n",
              " 'multiscale_graphcorr',\n",
              " 'multivariate_hypergeom',\n",
              " 'multivariate_normal',\n",
              " 'multivariate_t',\n",
              " 'mvn',\n",
              " 'mvsdist',\n",
              " 'nakagami',\n",
              " 'nbinom',\n",
              " 'ncf',\n",
              " 'nchypergeom_fisher',\n",
              " 'nchypergeom_wallenius',\n",
              " 'nct',\n",
              " 'ncx2',\n",
              " 'nhypergeom',\n",
              " 'norm',\n",
              " 'normal_inverse_gamma',\n",
              " 'normaltest',\n",
              " 'norminvgauss',\n",
              " 'obrientransform',\n",
              " 'order_statistic',\n",
              " 'ortho_group',\n",
              " 'page_trend_test',\n",
              " 'pareto',\n",
              " 'pearson3',\n",
              " 'pearsonr',\n",
              " 'percentileofscore',\n",
              " 'permutation_test',\n",
              " 'planck',\n",
              " 'pmean',\n",
              " 'pointbiserialr',\n",
              " 'poisson',\n",
              " 'poisson_binom',\n",
              " 'poisson_means_test',\n",
              " 'power',\n",
              " 'power_divergence',\n",
              " 'powerlaw',\n",
              " 'powerlognorm',\n",
              " 'powernorm',\n",
              " 'ppcc_max',\n",
              " 'ppcc_plot',\n",
              " 'probplot',\n",
              " 'qmc',\n",
              " 'quantile',\n",
              " 'quantile_test',\n",
              " 'randint',\n",
              " 'random_correlation',\n",
              " 'random_table',\n",
              " 'rankdata',\n",
              " 'ranksums',\n",
              " 'rayleigh',\n",
              " 'rdist',\n",
              " 'recipinvgauss',\n",
              " 'reciprocal',\n",
              " 'rel_breitwigner',\n",
              " 'relfreq',\n",
              " 'rice',\n",
              " 'rv_continuous',\n",
              " 'rv_discrete',\n",
              " 'rv_histogram',\n",
              " 'scoreatpercentile',\n",
              " 'sem',\n",
              " 'semicircular',\n",
              " 'shapiro',\n",
              " 'siegelslopes',\n",
              " 'sigmaclip',\n",
              " 'skellam',\n",
              " 'skew',\n",
              " 'skewcauchy',\n",
              " 'skewnorm',\n",
              " 'skewtest',\n",
              " 'sobol_indices',\n",
              " 'somersd',\n",
              " 'spearmanr',\n",
              " 'special_ortho_group',\n",
              " 'stats',\n",
              " 'studentized_range',\n",
              " 't',\n",
              " 'test',\n",
              " 'theilslopes',\n",
              " 'tiecorrect',\n",
              " 'tmax',\n",
              " 'tmean',\n",
              " 'tmin',\n",
              " 'trapezoid',\n",
              " 'triang',\n",
              " 'trim1',\n",
              " 'trim_mean',\n",
              " 'trimboth',\n",
              " 'truncate',\n",
              " 'truncexpon',\n",
              " 'truncnorm',\n",
              " 'truncpareto',\n",
              " 'truncweibull_min',\n",
              " 'tsem',\n",
              " 'tstd',\n",
              " 'ttest_1samp',\n",
              " 'ttest_ind',\n",
              " 'ttest_ind_from_stats',\n",
              " 'ttest_rel',\n",
              " 'tukey_hsd',\n",
              " 'tukeylambda',\n",
              " 'tvar',\n",
              " 'uniform',\n",
              " 'uniform_direction',\n",
              " 'unitary_group',\n",
              " 'variation',\n",
              " 'vonmises',\n",
              " 'vonmises_fisher',\n",
              " 'vonmises_line',\n",
              " 'wald',\n",
              " 'wasserstein_distance',\n",
              " 'wasserstein_distance_nd',\n",
              " 'weibull_max',\n",
              " 'weibull_min',\n",
              " 'weightedtau',\n",
              " 'wilcoxon',\n",
              " 'wishart',\n",
              " 'wrapcauchy',\n",
              " 'yeojohnson',\n",
              " 'yeojohnson_llf',\n",
              " 'yeojohnson_normmax',\n",
              " 'yeojohnson_normplot',\n",
              " 'yulesimon',\n",
              " 'zipf',\n",
              " 'zipfian',\n",
              " 'zmap',\n",
              " 'zscore']"
            ]
          },
          "metadata": {},
          "execution_count": 4
        }
      ]
    },
    {
      "cell_type": "code",
      "source": [
        "np.random.seed(999)\n",
        "x = np.random.normal(size=1000000)"
      ],
      "metadata": {
        "collapsed": true,
        "id": "dpVsM8Eo75lT"
      },
      "execution_count": 15,
      "outputs": []
    },
    {
      "cell_type": "code",
      "source": [
        "np.median(x)\n"
      ],
      "metadata": {
        "colab": {
          "base_uri": "https://localhost:8080/"
        },
        "id": "MQHNVfdN8eOb",
        "outputId": "67041eea-5898-4cc4-e1f0-2d3326f356d8"
      },
      "execution_count": 16,
      "outputs": [
        {
          "output_type": "execute_result",
          "data": {
            "text/plain": [
              "np.float64(0.0005399364916020659)"
            ]
          },
          "metadata": {},
          "execution_count": 16
        }
      ]
    },
    {
      "cell_type": "code",
      "source": [
        "plt.hist(x, bins=50, density=True)\n",
        "plt.show()"
      ],
      "metadata": {
        "colab": {
          "base_uri": "https://localhost:8080/",
          "height": 430
        },
        "id": "pmglppoJ84cE",
        "outputId": "1c39279f-7f7e-437c-a41d-a63529916057"
      },
      "execution_count": 24,
      "outputs": [
        {
          "output_type": "display_data",
          "data": {
            "text/plain": [
              "<Figure size 640x480 with 1 Axes>"
            ],
            "image/png": "[encoded data removed]"
          },
          "metadata": {}
        }
      ]
    },
    {
      "cell_type": "code",
      "source": [
        "gaussiana = st.norm(4,1)\n",
        "x = np.linspace(-0,8,100)\n",
        "y = gaussiana.pdf(x)\n",
        "plt.plot(x,y)\n",
        "plt.show()"
      ],
      "metadata": {
        "colab": {
          "base_uri": "https://localhost:8080/",
          "height": 430
        },
        "id": "CeFFkqD2-WGu",
        "outputId": "1ac8a9ec-bd75-4878-af26-16b59b8b5052"
      },
      "execution_count": 47,
      "outputs": [
        {
          "output_type": "display_data",
          "data": {
            "text/plain": [
              "<Figure size 640x480 with 1 Axes>"
            ],
            "image/png": "[encoded data removed]"
          },
          "metadata": {}
        }
      ]
    },
    {
      "cell_type": "code",
      "source": [
        "gaussiana.ppf(0.995)"
      ],
      "metadata": {
        "colab": {
          "base_uri": "https://localhost:8080/"
        },
        "id": "LAZuj_2nAoIH",
        "outputId": "1d2b56c4-92e3-4106-d21f-972b7ed4d31c"
      },
      "execution_count": 48,
      "outputs": [
        {
          "output_type": "execute_result",
          "data": {
            "text/plain": [
              "np.float64(6.5758293035489)"
            ]
          },
          "metadata": {},
          "execution_count": 48
        }
      ]
    },
    {
      "cell_type": "code",
      "source": [
        "poisson = st.poisson(0.131737)\n"
      ],
      "metadata": {
        "id": "UNH1VWtYBnn0"
      },
      "execution_count": 49,
      "outputs": []
    },
    {
      "cell_type": "code",
      "source": [
        "poisson.pmf(0) * 42127"
      ],
      "metadata": {
        "colab": {
          "base_uri": "https://localhost:8080/"
        },
        "id": "aLl-VtknB4qe",
        "outputId": "d8904317-7092-4e4f-e997-1799b190bf4f"
      },
      "execution_count": 56,
      "outputs": [
        {
          "output_type": "execute_result",
          "data": {
            "text/plain": [
              "np.float64(36927.32770989525)"
            ]
          },
          "metadata": {},
          "execution_count": 56
        }
      ]
    },
    {
      "cell_type": "code",
      "source": [
        "print(poisson.pmf(1) * 42127)"
      ],
      "metadata": {
        "colab": {
          "base_uri": "https://localhost:8080/"
        },
        "id": "wVQ8rKH1CW9s",
        "outputId": "64bea73a-f030-420e-a355-fd6182c9013d"
      },
      "execution_count": 57,
      "outputs": [
        {
          "output_type": "stream",
          "name": "stdout",
          "text": [
            "4864.69537051847\n"
          ]
        }
      ]
    },
    {
      "cell_type": "code",
      "source": [
        "valores_pmf = range(6)\n",
        "plt.stem(valores_pmf, poisson.pmf(valores_pmf))\n",
        "plt.show()"
      ],
      "metadata": {
        "colab": {
          "base_uri": "https://localhost:8080/",
          "height": 430
        },
        "id": "I1kxGNPVDcUt",
        "outputId": "18db37f1-bf2a-4e69-f9c9-267ebe92f3fb"
      },
      "execution_count": 60,
      "outputs": [
        {
          "output_type": "display_data",
          "data": {
            "text/plain": [
              "<Figure size 640x480 with 1 Axes>"
            ],
            "image/png": "[encoded data removed]"
          },
          "metadata": {}
        }
      ]
    },
    {
      "cell_type": "code",
      "source": [
        "binomial_negativa = st.nbinom(0,0.131737)"
      ],
      "metadata": {
        "id": "MbuJ3aXiEGXg"
      },
      "execution_count": 62,
      "outputs": []
    }
  ]
}