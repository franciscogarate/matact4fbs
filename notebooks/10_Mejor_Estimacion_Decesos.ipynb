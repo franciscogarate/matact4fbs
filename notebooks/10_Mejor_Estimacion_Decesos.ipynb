{
  "cells": [
    {
      "cell_type": "markdown",
      "metadata": {
        "colab_type": "text",
        "id": "view-in-github"
      },
      "source": [
        "<a href=\"https://colab.research.google.com/github/franciscogarate/cdiae/blob/main/notebooks/13_Mejor_Estimacion_Decesos.ipynb\" target=\"_parent\"><img src=\"https://colab.research.google.com/assets/colab-badge.svg\" alt=\"Open In Colab\"/></a>"
      ]
    },
    {
      "cell_type": "markdown",
      "metadata": {
        "id": "c-ZNItgbCgZ4"
      },
      "source": [
        "# Cálculo de la Mejor Estimación de una póliza de Decesos (Vida Entera)"
      ]
    },
    {
      "cell_type": "markdown",
      "metadata": {
        "id": "iMKRqWiFCoTp"
      },
      "source": [
        "En este ejemplo, calcularemos la mejor estimación de una poliza de decesos (seguro vida entera) a prima única (sin entradas de primas).\n",
        "El primer paso será descargarnos la base de datos clonando el repositorio de github:"
      ]
    },
    {
      "cell_type": "code",
      "execution_count": null,
      "metadata": {
        "id": "IZaZKp6T4AaV"
      },
      "outputs": [],
      "source": [
        "!git clone https://github.com/franciscogarate/matact4fbs"
      ]
    },
    {
      "cell_type": "markdown",
      "metadata": {
        "id": "O-G2-dQwCwen"
      },
      "source": [
        "Importamos las librerias necesarias, así como la tabla de mortalidad y curva libre de riesgo"
      ]
    },
    {
      "cell_type": "code",
      "execution_count": null,
      "metadata": {
        "id": "0jsIzav8_RN8"
      },
      "outputs": [],
      "source": [
        "import pandas as pd\n",
        "import numpy as np\n",
        "from cdiae import lx, clr"
      ]
    },
    {
      "cell_type": "markdown",
      "metadata": {
        "id": "LNC5ahmRLsVl"
      },
      "source": [
        "Establezco las **hipótesis** de mi proyección:"
      ]
    },
    {
      "cell_type": "code",
      "execution_count": null,
      "metadata": {
        "id": "d9r7wAXy_V0c"
      },
      "outputs": [],
      "source": [
        "lx = lx.PASEM2020_Decesos_M_2orden.values.copy() # Tabla PASEM2020 Decesos 2orden Hombres\n",
        "w = len(lx)                                      # Fin de tabla\n",
        "edad = 50                                        # Edad en t=0\n",
        "capital = 5000.                                  # Capital inicial\n",
        "tasa_incr_capital = 0                            # Incremento del capital\n",
        "tasa_caida = 0.03                                # Caida de cartera\n",
        "tasa_gastos = 0.05                               # Gastos por poliza sobre el capital"
      ]
    },
    {
      "cell_type": "markdown",
      "metadata": {
        "id": "eIEeiYpC32cy"
      },
      "source": [
        "Creo un **df** con **pd.date_range()** para realizar mis proyecciones. Para simplificar, calculamos con flujos anuales."
      ]
    },
    {
      "cell_type": "code",
      "execution_count": null,
      "metadata": {
        "collapsed": true,
        "id": "ZSrWsXZwOfVA"
      },
      "outputs": [],
      "source": [
        "df = pd.DataFrame(pd.date_range(start='2024-12-31',periods=(w - edad),freq='YE'), columns=['Fecha'])\n",
        "df['t'] = df.index\n",
        "df['edad'] = edad + df.index\n",
        "df['lx'] = df['edad'].apply(lambda x: lx[x])\n",
        "df.head()"
      ]
    },
    {
      "cell_type": "markdown",
      "metadata": {
        "id": "vwrdIgJ5LFyb"
      },
      "source": [
        "Calculo la qx como diferencia entre lx y lx+1 dividida por el número de supervivientes al inicio de la proyección:"
      ]
    },
    {
      "cell_type": "code",
      "execution_count": null,
      "metadata": {
        "collapsed": true,
        "id": "zf9CFfw9RiXj"
      },
      "outputs": [],
      "source": [
        "df['qx'] = df['lx'].diff(-1).fillna(0)/df['lx'][0]\n",
        "df['sum_qx'] = df['qx'].cumsum()\n",
        "df['px'] = 1 - df['sum_qx']\n",
        "df.head()"
      ]
    },
    {
      "cell_type": "markdown",
      "metadata": {
        "id": "-npJeRfmLZPo"
      },
      "source": [
        "Aplicamos nuestro incremento de capital"
      ]
    },
    {
      "cell_type": "code",
      "execution_count": null,
      "metadata": {
        "id": "fdk7nr-pqwUX"
      },
      "outputs": [],
      "source": [
        "def incr_capital(capital, t):\n",
        "  return capital * (1 + tasa_incr_capital) ** t\n",
        "\n",
        "df['capital'] = incr_capital(capital, df.t)\n",
        "df.head()"
      ]
    },
    {
      "cell_type": "markdown",
      "metadata": {
        "id": "IMmyA5GgNcV8"
      },
      "source": [
        "Calculamos los pagos probabilizados en casa periodo de la proyección. Sin incremento del capital, la suma de todos los períodos debería ser igual al capital inicial:"
      ]
    },
    {
      "cell_type": "code",
      "execution_count": null,
      "metadata": {
        "collapsed": true,
        "id": "5R0gOtiqTNM9"
      },
      "outputs": [],
      "source": [
        "df['pagos'] = df['capital'] * df['qx']\n",
        "df.head()"
      ]
    },
    {
      "cell_type": "code",
      "execution_count": null,
      "metadata": {
        "id": "_Ztnp8oVTSyq"
      },
      "outputs": [],
      "source": [
        "df.pagos.sum()"
      ]
    },
    {
      "cell_type": "markdown",
      "metadata": {
        "id": "VIEJCb_bNyVO"
      },
      "source": [
        "Aplicamos nuestra tasa de caída de la cartera:"
      ]
    },
    {
      "cell_type": "code",
      "execution_count": null,
      "metadata": {
        "id": "QEYPUqXW35lU"
      },
      "outputs": [],
      "source": [
        "df['tasa_caida'] = tasa_caida\n",
        "df['polizas'] = (1 - df['tasa_caida']).cumprod()\n",
        "df.head()"
      ]
    },
    {
      "cell_type": "markdown",
      "metadata": {
        "id": "L5FLVsliN3xw"
      },
      "source": [
        "Calculamos cuantos beneficiarios probabilizados por fallecimiento y caída quedan al final de cada período:"
      ]
    },
    {
      "cell_type": "code",
      "execution_count": null,
      "metadata": {
        "id": "f-hacR8kI2k-"
      },
      "outputs": [],
      "source": [
        "df['polizas_benef'] =  df['px'] * df['polizas']\n",
        "df.head(2)"
      ]
    },
    {
      "cell_type": "markdown",
      "metadata": {
        "id": "zpyLkwTUJgXS"
      },
      "source": [
        "En este paso, calculamos los pagos por siniestralidad probabilizados"
      ]
    },
    {
      "cell_type": "code",
      "execution_count": null,
      "metadata": {
        "id": "2YaXeOly8ZRY"
      },
      "outputs": [],
      "source": [
        "df['pagos_prob'] = df['pagos'] * df['polizas_benef']\n",
        "df.head(2)"
      ]
    },
    {
      "cell_type": "markdown",
      "metadata": {
        "id": "2-Igfqm8OaZC"
      },
      "source": [
        "Incluimos la curva libre de riesgo para calcular el factor de descuento:"
      ]
    },
    {
      "cell_type": "code",
      "execution_count": null,
      "metadata": {
        "id": "nn57n4FITUtY"
      },
      "outputs": [],
      "source": [
        "df['clr'] = df['t'].apply(lambda t: clr[t])\n",
        "df['factor_desc'] = df.apply(lambda x: 1 / (1 + x.clr) ** (x.t), axis=1)\n",
        "df.head(2)"
      ]
    },
    {
      "cell_type": "markdown",
      "metadata": {
        "id": "CtRYmwuQOoyp"
      },
      "source": [
        "Incluimos los gastos"
      ]
    },
    {
      "cell_type": "code",
      "execution_count": null,
      "metadata": {
        "id": "DH0W2PPk9dlE"
      },
      "outputs": [],
      "source": [
        "df['gastos'] = df['capital'] * tasa_gastos\n",
        "df['gastos_prob'] = df['gastos'] * df['polizas_benef']\n",
        "df.head(2)"
      ]
    },
    {
      "cell_type": "markdown",
      "metadata": {
        "id": "UsqMOQ9QndU-"
      },
      "source": [
        "Calculamos las salidas totales (siniestralidad + gastos)"
      ]
    },
    {
      "cell_type": "code",
      "execution_count": null,
      "metadata": {
        "id": "dujQlEU29wY0"
      },
      "outputs": [],
      "source": [
        "df['salidas_prob'] = df['pagos_prob'] + df['gastos_prob']\n",
        "df.head(2)"
      ]
    },
    {
      "cell_type": "markdown",
      "metadata": {
        "id": "ompYomaQO3EE"
      },
      "source": [
        "Por último, descontamos los flujos probabilizados utilizando el factor de descuento:"
      ]
    },
    {
      "cell_type": "code",
      "execution_count": null,
      "metadata": {
        "id": "AsAF1GrQjzpz"
      },
      "outputs": [],
      "source": [
        "print(f'BEL: {(df.salidas_prob @ df.factor_desc):,.2f}')"
      ]
    }
  ],
  "metadata": {
    "colab": {
      "include_colab_link": true,
      "provenance": []
    },
    "kernelspec": {
      "display_name": "Python 3",
      "name": "python3"
    },
    "language_info": {
      "name": "python"
    }
  },
  "nbformat": 4,
  "nbformat_minor": 0
}
