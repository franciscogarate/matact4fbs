{
  "nbformat": 4,
  "nbformat_minor": 0,
  "metadata": {
    "colab": {
      "provenance": []
    },
    "kernelspec": {
      "name": "python3",
      "display_name": "Python 3"
    },
    "language_info": {
      "name": "python"
    }
  },
  "cells": [
    {
      "cell_type": "markdown",
      "source": [
        "# Introducción regresión con GLM"
      ],
      "metadata": {
        "id": "Cw29I21tlA0Z"
      }
    },
    {
      "cell_type": "code",
      "execution_count": null,
      "metadata": {
        "id": "0wgXXQOgaX-3"
      },
      "outputs": [],
      "source": [
        "!git clone https://github.com/franciscogarate/matact4fbs"
      ]
    },
    {
      "cell_type": "code",
      "source": [
        "import pandas as pd\n",
        "import matplotlib.pyplot as plt"
      ],
      "metadata": {
        "id": "4eXt8wWdapZq"
      },
      "execution_count": null,
      "outputs": []
    },
    {
      "cell_type": "markdown",
      "source": [
        "Importamos el fichero de datos para posteriormente trabajar con el"
      ],
      "metadata": {
        "id": "ik95ny5VlNVp"
      }
    },
    {
      "cell_type": "code",
      "source": [
        "datos = pd.read_excel('matact4fbs/data/datos.xlsx')\n",
        "datos.head()"
      ],
      "metadata": {
        "id": "mnh3C2TylTcy"
      },
      "execution_count": null,
      "outputs": []
    },
    {
      "cell_type": "code",
      "source": [
        "df = pd.DataFrame(index=range(2020,2025))\n",
        "df['x'] = [1,2,4,5,6]\n",
        "df['y'] = [1.25,5,11.25,20,30.5]\n",
        "plt.scatter(df['x'], df['y'])\n",
        "plt.show()"
      ],
      "metadata": {
        "id": "b0e22iBkat0K"
      },
      "execution_count": null,
      "outputs": []
    },
    {
      "cell_type": "markdown",
      "source": [
        "## Regresión lineal con scipy"
      ],
      "metadata": {
        "id": "Hf8pQTcakgt7"
      }
    },
    {
      "cell_type": "code",
      "source": [
        "import scipy.stats as st\n",
        "x = df.x\n",
        "y = df.y\n",
        "st.linregress(x,y)"
      ],
      "metadata": {
        "id": "BQ-BUti0bEqU"
      },
      "execution_count": null,
      "outputs": []
    },
    {
      "cell_type": "markdown",
      "source": [
        "## Regresión lineal con statsmodels"
      ],
      "metadata": {
        "id": "Jiahv96fkp7u"
      }
    },
    {
      "cell_type": "code",
      "source": [
        "import numpy as np\n",
        "import statsmodels.api as sm\n",
        "x = df.x\n",
        "y = df.y\n",
        "x = sm.add_constant(x)\n",
        "model = sm.OLS(y,x)\n",
        "results = model.fit()\n",
        "print(results.summary())"
      ],
      "metadata": {
        "id": "m0qqi2EscK0f"
      },
      "execution_count": null,
      "outputs": []
    },
    {
      "cell_type": "code",
      "source": [
        "df['Estimacion_RL'] = results.predict(sm.add_constant(df.x))\n",
        "df"
      ],
      "metadata": {
        "id": "F95bWzr3g88o"
      },
      "execution_count": null,
      "outputs": []
    },
    {
      "cell_type": "markdown",
      "source": [
        "Calcular RMSE"
      ],
      "metadata": {
        "id": "xF5sEygXhV0x"
      }
    },
    {
      "cell_type": "markdown",
      "source": [
        "## Regresión GLM con statsmodels"
      ],
      "metadata": {
        "id": "ep0QJQ4ykxY1"
      }
    },
    {
      "cell_type": "code",
      "source": [
        "import statsmodels.formula.api as smf\n",
        "\n",
        "formula = 'y ~ x'\n",
        "model = smf.ols(formula=formula, data=df)\n",
        "results = model.fit()\n",
        "print(results.summary())\n"
      ],
      "metadata": {
        "id": "3I-adm2RhZo6"
      },
      "execution_count": null,
      "outputs": []
    },
    {
      "cell_type": "code",
      "source": [
        "model2 = smf.glm(formula=formula, data=df, family=sm.families.Poisson())\n",
        "result2 = model2.fit()\n",
        "print(result2.summary())"
      ],
      "metadata": {
        "id": "cBrnhLIuh0FE"
      },
      "execution_count": null,
      "outputs": []
    },
    {
      "cell_type": "code",
      "source": [
        "df['Estimacion_GLM'] = result2.predict()\n",
        "df"
      ],
      "metadata": {
        "id": "Am571lSAiKVj"
      },
      "execution_count": null,
      "outputs": []
    },
    {
      "cell_type": "markdown",
      "source": [
        "Calcular RMSE"
      ],
      "metadata": {
        "id": "rnoZ9kORmG3v"
      }
    },
    {
      "cell_type": "code",
      "source": [
        "from sklearn.metrics import mean_squared_error\n",
        "np.sqrt(mean_squared_error(df.y, df.Estimacion_RL))"
      ],
      "metadata": {
        "id": "4iy4tShXicn6"
      },
      "execution_count": null,
      "outputs": []
    },
    {
      "cell_type": "code",
      "source": [
        "np.sqrt(mean_squared_error(df.y, df.Estimacion_GLM))"
      ],
      "metadata": {
        "id": "Aep7SquaimZ5"
      },
      "execution_count": null,
      "outputs": []
    },
    {
      "cell_type": "code",
      "source": [
        "x_plot = np.linspace(df.x.min(), df.x.max(), 100)\n",
        "y_plot_glm = result2.predict(exog=pd.DataFrame({'x': x_plot}))\n",
        "\n",
        "# Graficamos los puntos\n",
        "plt.scatter(df.x, df.y, label='Original Data')\n",
        "\n",
        "# Graficamos la linea de la regresion del GLM (curva al ser función exponencial)\n",
        "plt.plot(x_plot, y_plot_glm, color='red', label='Regresion GLM')\n",
        "\n",
        "plt.xlabel('x')\n",
        "plt.ylabel('y')\n",
        "plt.legend()\n",
        "plt.show()"
      ],
      "metadata": {
        "id": "t2di6CfSitOo"
      },
      "execution_count": null,
      "outputs": []
    },
    {
      "cell_type": "markdown",
      "source": [
        "Repetir el ejercicio con los datos de alquiler de bicicletas del inicio"
      ],
      "metadata": {
        "id": "y0NAM2pBmNah"
      }
    }
  ]
}