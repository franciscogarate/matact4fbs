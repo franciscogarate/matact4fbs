{
  "cells": [
    {
      "cell_type": "markdown",
      "metadata": {
        "id": "view-in-github",
        "colab_type": "text"
      },
      "source": [
        "<a href=\"https://colab.research.google.com/github/franciscogarate/matact4fbs/blob/main/notebooks/8_ChainLadder.ipynb\" target=\"_parent\"><img src=\"https://colab.research.google.com/assets/colab-badge.svg\" alt=\"Open In Colab\"/></a>"
      ]
    },
    {
      "cell_type": "markdown",
      "id": "6216da02",
      "metadata": {
        "id": "6216da02"
      },
      "source": [
        "### Ejercicio 5 Chainladder\n",
        "Cálculo de la provisión de Siniestros. Resolución en python del ejemplo del libro G Taylor (Pag. 120 y siguientes)"
      ]
    },
    {
      "cell_type": "code",
      "execution_count": null,
      "id": "gKXJcffdE6YQ",
      "metadata": {
        "id": "gKXJcffdE6YQ"
      },
      "outputs": [],
      "source": [
        "!git clone https://github.com/franciscogarate/matact4fbs"
      ]
    },
    {
      "cell_type": "code",
      "execution_count": null,
      "id": "d15121f5",
      "metadata": {
        "id": "d15121f5"
      },
      "outputs": [],
      "source": [
        "import pandas as pd\n",
        "import numpy as np\n",
        "import matplotlib.pyplot as plt"
      ]
    },
    {
      "cell_type": "code",
      "execution_count": null,
      "id": "67f7a7a0",
      "metadata": {
        "id": "67f7a7a0"
      },
      "outputs": [],
      "source": [
        "opcion = 1\n",
        "freq = 'Y'"
      ]
    },
    {
      "cell_type": "code",
      "execution_count": null,
      "id": "db7c5ea6",
      "metadata": {
        "id": "db7c5ea6"
      },
      "outputs": [],
      "source": [
        "data = pd.read_excel('matact4fbs/data/Ejercicio_5_datos.xlsx')\n",
        "data.head()"
      ]
    },
    {
      "cell_type": "code",
      "execution_count": null,
      "id": "86782ede",
      "metadata": {
        "id": "86782ede"
      },
      "outputs": [],
      "source": [
        "# Check for missing data\n",
        "print(data.isnull().any())"
      ]
    },
    {
      "cell_type": "code",
      "execution_count": null,
      "id": "7e3c70b2",
      "metadata": {
        "id": "7e3c70b2"
      },
      "outputs": [],
      "source": [
        "data['Payment_Date'] = data['Payment_Date'].dt.to_period(freq)\n",
        "data['Accident_Date'] = data['Accident_Date'].dt.to_period(freq)"
      ]
    },
    {
      "cell_type": "code",
      "execution_count": null,
      "id": "bf362119",
      "metadata": {
        "id": "bf362119"
      },
      "outputs": [],
      "source": [
        "data['Dev'] = (data['Payment_Date'] - data['Accident_Date']).apply(lambda x: x.n)\n",
        "data.head()"
      ]
    },
    {
      "cell_type": "code",
      "execution_count": null,
      "id": "b0cf380a",
      "metadata": {
        "id": "b0cf380a"
      },
      "outputs": [],
      "source": [
        "#data.drop(data[data.Dev<0].index, inplace=True)"
      ]
    },
    {
      "cell_type": "code",
      "execution_count": null,
      "id": "d53efdd7",
      "metadata": {
        "id": "d53efdd7"
      },
      "outputs": [],
      "source": [
        "datagg = data.groupby(['Accident_Date','Dev']).agg({'Indemnity':'sum'}).reset_index()\n",
        "datagg.head()"
      ]
    },
    {
      "cell_type": "code",
      "execution_count": null,
      "id": "14303e7e",
      "metadata": {
        "id": "14303e7e"
      },
      "outputs": [],
      "source": [
        "triangle = datagg.pivot(index='Accident_Date',columns='Dev',values='Indemnity')\n",
        "triangle"
      ]
    },
    {
      "cell_type": "code",
      "execution_count": null,
      "id": "7c8a316f",
      "metadata": {
        "id": "7c8a316f"
      },
      "outputs": [],
      "source": [
        "# Accumulated Paids\n",
        "accumulate = triangle.cumsum(axis=1)\n",
        "accumulate"
      ]
    },
    {
      "cell_type": "code",
      "execution_count": null,
      "id": "b33a882c",
      "metadata": {
        "id": "b33a882c"
      },
      "outputs": [],
      "source": [
        "if opcion==4:\n",
        "    accumulate.loc[1998,1] = accumulate.loc[1998,1] * 1.1\n",
        "else:\n",
        "    pass"
      ]
    },
    {
      "cell_type": "code",
      "execution_count": null,
      "id": "4f99e6ce",
      "metadata": {
        "id": "4f99e6ce",
        "lines_to_next_cell": 2
      },
      "outputs": [],
      "source": [
        "# Check the shape of the triangle:\n",
        "print(accumulate.shape)"
      ]
    },
    {
      "cell_type": "markdown",
      "id": "611c8d14",
      "metadata": {
        "id": "611c8d14"
      },
      "source": [
        "**Opción 1** - Average Paid LDFs"
      ]
    },
    {
      "cell_type": "code",
      "execution_count": null,
      "id": "f0a9d328",
      "metadata": {
        "id": "f0a9d328"
      },
      "outputs": [],
      "source": [
        "df = accumulate\n",
        "saltos = df.iloc[:, 1:].div(df.iloc[:, :-1].values)\n",
        "saltos"
      ]
    },
    {
      "cell_type": "code",
      "execution_count": null,
      "id": "2de9d921",
      "metadata": {
        "id": "2de9d921"
      },
      "outputs": [],
      "source": [
        "LDFs1 = saltos.mean().to_list()\n",
        "LDFs1 = np.round(LDFs1, 3); LDFs1[4] = LDFs1[4] + 0.001 # Corrección para igualar con el paper\n",
        "LDFs1"
      ]
    },
    {
      "cell_type": "markdown",
      "id": "abdb98cb",
      "metadata": {
        "id": "abdb98cb"
      },
      "source": [
        "**Opcion 2** - Average 5y Paid LDFs"
      ]
    },
    {
      "cell_type": "code",
      "execution_count": null,
      "id": "5a2c7f22",
      "metadata": {
        "id": "5a2c7f22"
      },
      "outputs": [],
      "source": [
        "LDFs2 = saltos.apply(lambda col: col.dropna().tail(5).mean())\n",
        "LDFs2 = LDFs2.to_list()\n",
        "LDFs2 = np.round(LDFs2, 3); LDFs2[4] = LDFs2[4] + 0.001 # Corrección para igualar con el paper\n",
        "LDFs2\n"
      ]
    },
    {
      "cell_type": "markdown",
      "id": "2db26a3e",
      "metadata": {
        "id": "2db26a3e"
      },
      "source": [
        "**Opcion 3** - Mean Paid LDFs"
      ]
    },
    {
      "cell_type": "code",
      "execution_count": null,
      "id": "0f056871",
      "metadata": {
        "id": "0f056871"
      },
      "outputs": [],
      "source": [
        "# Payment Pattern\n",
        "n = len(accumulate)-1\n",
        "LDFs3 = np.ones(n)\n",
        "\n",
        "for i in range(n):\n",
        "\tSumDev = pd.Series(accumulate[i][:n-i]).sum(skipna=True)\n",
        "\tSumDevNext = pd.Series(accumulate[min(i+1,n)][:n-i]).sum(skipna=True)\n",
        "\tLDFs3[i] = SumDevNext/SumDev\n",
        "LDFs3 = np.round(LDFs3, 3)\n",
        "LDFs3"
      ]
    },
    {
      "cell_type": "code",
      "execution_count": null,
      "id": "c60c2c6b",
      "metadata": {
        "id": "c60c2c6b"
      },
      "outputs": [],
      "source": [
        "# Elegir opcion\n",
        "opciones = {\n",
        "    1: LDFs1,\n",
        "    2: LDFs2,\n",
        "    3: LDFs3,\n",
        "    4: LDFs2,\n",
        "}\n",
        "LDFs = opciones.get(opcion, \"Opción fuera del rango\")"
      ]
    },
    {
      "cell_type": "code",
      "execution_count": null,
      "id": "725be899",
      "metadata": {
        "id": "725be899"
      },
      "outputs": [],
      "source": [
        "CDFs = np.ones(n+1)\n",
        "for i in range(n):\n",
        "\tCDFs[i] = np.prod(LDFs[i:n])\n",
        "CDFs"
      ]
    },
    {
      "cell_type": "code",
      "execution_count": null,
      "id": "c030d3fc",
      "metadata": {
        "id": "c030d3fc"
      },
      "outputs": [],
      "source": [
        "# Payment Pattern\n",
        "payment_pattern = pd.DataFrame(data=np.reciprocal(CDFs),columns=['Cum'])\n",
        "payment_pattern['Incr'] = payment_pattern['Cum'].diff().fillna(payment_pattern['Cum']) #First value of diff() is always NaN\n",
        "#print(payment_pattern)\n",
        "#plt.plot(payment_pattern)\n",
        "payment_pattern.plot()\n",
        "plt.show()"
      ]
    },
    {
      "cell_type": "code",
      "execution_count": null,
      "id": "6460ea15",
      "metadata": {
        "id": "6460ea15"
      },
      "outputs": [],
      "source": [
        "# Payments = diagonal + flipud/fliplr\n",
        "diagonal = np.diag(np.flipud(accumulate))\n",
        "diagonal"
      ]
    },
    {
      "cell_type": "code",
      "execution_count": null,
      "id": "82fe3dcf",
      "metadata": {
        "id": "82fe3dcf"
      },
      "outputs": [],
      "source": [
        "payments = pd.Series(data=diagonal)\n",
        "payments\n"
      ]
    },
    {
      "cell_type": "code",
      "execution_count": null,
      "id": "c7dfad3f",
      "metadata": {
        "id": "c7dfad3f"
      },
      "outputs": [],
      "source": [
        "print(f'Paid-to-Date: {payments.sum():,.0f}')"
      ]
    },
    {
      "cell_type": "code",
      "execution_count": null,
      "id": "09060b47",
      "metadata": {
        "id": "09060b47"
      },
      "outputs": [],
      "source": [
        "# Ultimate = CDFs * payment_k\n",
        "ultimate = np.vdot(CDFs, payments)\n",
        "print(f'Estimated Ultimate Losses: {ultimate:,.0f}')"
      ]
    },
    {
      "cell_type": "code",
      "execution_count": null,
      "id": "744efb85",
      "metadata": {
        "id": "744efb85"
      },
      "outputs": [],
      "source": [
        "# Reserve = ultimate - Sum(payments)\n",
        "reserve = ultimate - np.sum(payments)\n",
        "print(f'Estimated Loss Reserve: {reserve.round(0):,.0f}')"
      ]
    }
  ],
  "metadata": {
    "colab": {
      "provenance": [],
      "include_colab_link": true
    },
    "jupytext": {
      "cell_metadata_filter": "-all",
      "main_language": "python",
      "notebook_metadata_filter": "-all"
    },
    "kernelspec": {
      "display_name": "Python 3",
      "language": "python",
      "name": "python3"
    },
    "language_info": {
      "codemirror_mode": {
        "name": "ipython",
        "version": 3
      },
      "file_extension": ".py",
      "mimetype": "text/x-python",
      "name": "python",
      "nbconvert_exporter": "python",
      "pygments_lexer": "ipython3",
      "version": "3.11.9"
    }
  },
  "nbformat": 4,
  "nbformat_minor": 5
}